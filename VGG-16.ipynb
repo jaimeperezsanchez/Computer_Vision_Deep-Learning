{
  "nbformat": 4,
  "nbformat_minor": 0,
  "metadata": {
    "accelerator": "GPU",
    "colab": {
      "name": "vgg_2.ipynb",
      "provenance": []
    },
    "kernelspec": {
      "display_name": "Python 3",
      "language": "python",
      "name": "python3"
    },
    "language_info": {
      "codemirror_mode": {
        "name": "ipython",
        "version": 3
      },
      "file_extension": ".py",
      "mimetype": "text/x-python",
      "name": "python",
      "nbconvert_exporter": "python",
      "pygments_lexer": "ipython3",
      "version": "3.7.4"
    }
  },
  "cells": [
    {
      "cell_type": "markdown",
      "metadata": {
        "colab_type": "text",
        "id": "icqoOALIbjbS"
      },
      "source": [
        "# VGG-16 network"
      ]
    },
    {
      "cell_type": "markdown",
      "metadata": {
        "colab_type": "text",
        "id": "frpbNU0HbjbY"
      },
      "source": [
        "### Import needed libraries"
      ]
    },
    {
      "cell_type": "code",
      "metadata": {
        "colab_type": "code",
        "id": "ep5Sa6gTbjbd",
        "colab": {}
      },
      "source": [
        "import numpy as np # linear algebra\n",
        "import pandas as pd # data processing, CSV file I/O (e.g. pd.read_csv)\n",
        "import os\n",
        "# Simple CNN model for CIFAR-10\n",
        "from keras.datasets import cifar10\n",
        "from keras.models import Sequential, Model\n",
        "from keras.layers import Input, Dense, Dropout, Flatten, concatenate, BatchNormalization\n",
        "from keras.constraints import maxnorm\n",
        "from keras.optimizers import SGD, RMSprop\n",
        "from keras.layers.convolutional import Conv2D, MaxPooling2D, AveragePooling2D\n",
        "from keras.utils import np_utils\n",
        "from keras.models import load_model\n",
        "from keras.applications import resnet50\n",
        "import keras.backend.tensorflow_backend as K2\n",
        "from keras import backend as K\n",
        "K.common.image_dim_ordering()\n",
        "\n",
        "import tensorflow as tf\n",
        "from pathlib import Path\n",
        "import matplotlib.pyplot as plt"
      ],
      "execution_count": 0,
      "outputs": []
    },
    {
      "cell_type": "markdown",
      "metadata": {
        "colab_type": "text",
        "id": "S1Y9esx2bjbt"
      },
      "source": [
        "### Create variables to save net weights and loss and accuracy images"
      ]
    },
    {
      "cell_type": "code",
      "metadata": {
        "colab_type": "code",
        "id": "wLK1CFprbjbv",
        "colab": {}
      },
      "source": [
        "weights_path = './weights_2.h5'\n",
        "loss_img_name = 'loss_'+ str(num_img_train) +'.png'\n",
        "accuracy_img_name = 'accuracy_'+ str(num_img_train) +'.png'"
      ],
      "execution_count": 0,
      "outputs": []
    },
    {
      "cell_type": "markdown",
      "metadata": {
        "colab_type": "text",
        "id": "80e6Ptq4bjb3"
      },
      "source": [
        "### File with the parameters of the network"
      ]
    },
    {
      "cell_type": "code",
      "metadata": {
        "colab_type": "code",
        "id": "XwhnPDX8bjb7",
        "colab": {}
      },
      "source": [
        "weights_file = Path(weights_path)"
      ],
      "execution_count": 0,
      "outputs": []
    },
    {
      "cell_type": "markdown",
      "metadata": {
        "colab_type": "text",
        "id": "Pcryfp8objcD"
      },
      "source": [
        "### Fix random seed for reproducibility"
      ]
    },
    {
      "cell_type": "code",
      "metadata": {
        "colab_type": "code",
        "id": "lsE-EQvdbjcF",
        "colab": {}
      },
      "source": [
        "seed = 7\n",
        "np.random.seed(seed)"
      ],
      "execution_count": 0,
      "outputs": []
    },
    {
      "cell_type": "markdown",
      "metadata": {
        "colab_type": "text",
        "id": "fNVGWUOzbjcO"
      },
      "source": [
        "### Don't be greedy on GPU RAM"
      ]
    },
    {
      "cell_type": "code",
      "metadata": {
        "colab_type": "code",
        "id": "57CgbsYzbjcR",
        "colab": {}
      },
      "source": [
        "config = tf.ConfigProto()\n",
        "# ask for GPU memory gracefully\n",
        "config.gpu_options.allow_growth = True\n",
        "\n",
        "sess = tf.Session(config=config)\n",
        "\n",
        "K2.set_session(sess)"
      ],
      "execution_count": 0,
      "outputs": []
    },
    {
      "cell_type": "markdown",
      "metadata": {
        "colab_type": "text",
        "id": "xFk756Z4bjcX"
      },
      "source": [
        "### Load data and prepare it for the training process"
      ]
    },
    {
      "cell_type": "code",
      "metadata": {
        "colab_type": "code",
        "id": "xoSnezQMbjcZ",
        "outputId": "361cd2e7-7b74-49eb-95aa-973dae5c2c72",
        "colab": {
          "base_uri": "https://localhost:8080/",
          "height": 36
        }
      },
      "source": [
        "(X_train, y_train), (X_test, y_test) = cifar10.load_data()\n",
        "\n",
        "# normalize inputs from 0-255 to 0.0-1.0\n",
        "X_train = X_train.astype('float32')\n",
        "X_test = X_test.astype('float32')\n",
        "X_train = X_train / 255.0\n",
        "X_test = X_test / 255.0\n",
        "\n",
        "# one hot encode outputs\n",
        "y_train = np_utils.to_categorical(y_train)\n",
        "y_test = np_utils.to_categorical(y_test)\n",
        "num_classes = y_test.shape[1]\n",
        "\n",
        "print(\"num_training_samples: \", X_train.shape)"
      ],
      "execution_count": 70,
      "outputs": [
        {
          "output_type": "stream",
          "text": [
            "num_training_samples:  (50000, 32, 32, 3)\n"
          ],
          "name": "stdout"
        }
      ]
    },
    {
      "cell_type": "markdown",
      "metadata": {
        "colab_type": "text",
        "id": "RnooVVqmbjcj"
      },
      "source": [
        "### Create network model"
      ]
    },
    {
      "cell_type": "code",
      "metadata": {
        "colab_type": "code",
        "id": "yq0L8TF7bjcl",
        "outputId": "10bd5a9c-c5a5-497a-a89c-b263b4850467",
        "colab": {
          "base_uri": "https://localhost:8080/",
          "height": 36
        }
      },
      "source": [
        "#  dropout rate for FC layers\n",
        "dropout = 0.4\n",
        "\n",
        "# CNN architecture\n",
        "\n",
        "input_image = Input(shape=(32,32,3))\n",
        "# Block 1\n",
        "x = Conv2D(64, (3, 3),\n",
        "                  padding='same', \n",
        "                  activation='relu', \n",
        "                  name=\"block1_conv1\")(input_image)\n",
        "x = Conv2D(64, (3, 3),\n",
        "                  padding='same', \n",
        "                  activation='relu', \n",
        "                  name=\"block1_conv2\")(x)\n",
        "x = MaxPooling2D((2, 2), name='block1_pool')(x)\n",
        "x = Dropout(dropout)(x)\n",
        "\n",
        "# Block 2 \n",
        "x = Conv2D(128, (3, 3),\n",
        "                  activation='relu',\n",
        "                  padding='same',\n",
        "                  name='block2_conv1')(x)\n",
        "x = Conv2D(128, (3, 3),\n",
        "                  activation='relu',\n",
        "                  padding='same',\n",
        "                  name='block2_conv2')(x)\n",
        "x = MaxPooling2D((2, 2), name='block2_pool')(x)\n",
        "x = Dropout(dropout)(x)\n",
        "\n",
        "# Block 3\n",
        "x = Conv2D(256, (3, 3),\n",
        "                  activation='relu',\n",
        "                  padding='same',\n",
        "                  name='block3_conv1')(x)\n",
        "x = Conv2D(256, (3, 3),\n",
        "                  activation='relu',\n",
        "                  padding='same',\n",
        "                  name='block3_conv2')(x)\n",
        "x = MaxPooling2D((2, 2), name='block3_pool')(x)\n",
        "x = Dropout(dropout)(x)\n",
        "\n",
        "# Block 4\n",
        "x = Conv2D(512, (3, 3),\n",
        "                  activation='relu',\n",
        "                  padding='same',\n",
        "                  name='block4_conv1')(x)\n",
        "x = Conv2D(512, (3, 3),\n",
        "                  activation='relu',\n",
        "                  padding='same',\n",
        "                  name='block4_conv2')(x)\n",
        "x = Conv2D(512, (3, 3),\n",
        "                  activation='relu',\n",
        "                  padding='same',\n",
        "                  name='block4_conv3')(x)\n",
        "x = MaxPooling2D((2, 2), strides=(2, 2), name='block4_pool')(x)\n",
        "x = Dropout(dropout)(x)\n",
        "\n",
        "# Block 5\n",
        "x = Conv2D(512, (3, 3),\n",
        "                  activation='relu',\n",
        "                  padding='same',\n",
        "                  name='block5_conv1')(x)\n",
        "x = Conv2D(512, (3, 3),\n",
        "                  activation='relu',\n",
        "                  padding='same',\n",
        "                  name='block5_conv2')(x)\n",
        "x = Conv2D(512, (3, 3),\n",
        "                  activation='relu',\n",
        "                  padding='same',\n",
        "                  name='block5_conv3')(x)\n",
        "x = MaxPooling2D((2, 2), strides=(2, 2), name='block5_pool')(x)\n",
        "x = Dropout(dropout)(x)\n",
        "\n",
        "x = Flatten(name='flatten')(x)\n",
        "x = Dense(512, activation='relu', name='fc1')(x)\n",
        "x = Dropout(0.5)(x)\n",
        "x = Dense(num_classes, activation='softmax', name='predictions')(x)\n",
        "\n",
        "model = Model(inputs=input_image, output=x, name='vgg16')"
      ],
      "execution_count": 71,
      "outputs": [
        {
          "output_type": "stream",
          "text": [
            "/usr/local/lib/python3.6/dist-packages/ipykernel_launcher.py:79: UserWarning: Update your `Model` call to the Keras 2 API: `Model(inputs=Tensor(\"in..., name=\"vgg16\", outputs=Tensor(\"pr...)`\n"
          ],
          "name": "stderr"
        }
      ]
    },
    {
      "cell_type": "markdown",
      "metadata": {
        "colab_type": "text",
        "id": "7r2xHPECbjcs"
      },
      "source": [
        "### Initialize training parameters"
      ]
    },
    {
      "cell_type": "code",
      "metadata": {
        "colab_type": "code",
        "id": "y412R-pWbjcu",
        "outputId": "b36b74d7-451e-4bd4-f804-f6f329260847",
        "colab": {
          "base_uri": "https://localhost:8080/",
          "height": 1000
        }
      },
      "source": [
        "epochs = 70\n",
        "lrate = 0.001\n",
        "decay = 0\n",
        "opt = SGD(lr=lrate, momentum=0.9, decay=decay, nesterov=True)\n",
        "#opt = RMSprop(lr=0.0001, decay=3e-6)\n",
        "model.compile(loss='categorical_crossentropy', optimizer=opt, metrics=['accuracy'])\n",
        "print(model.summary())"
      ],
      "execution_count": 72,
      "outputs": [
        {
          "output_type": "stream",
          "text": [
            "Model: \"vgg16\"\n",
            "_________________________________________________________________\n",
            "Layer (type)                 Output Shape              Param #   \n",
            "=================================================================\n",
            "input_12 (InputLayer)        (None, 32, 32, 3)         0         \n",
            "_________________________________________________________________\n",
            "block1_conv1 (Conv2D)        (None, 32, 32, 64)        1792      \n",
            "_________________________________________________________________\n",
            "block1_conv2 (Conv2D)        (None, 32, 32, 64)        36928     \n",
            "_________________________________________________________________\n",
            "block1_pool (MaxPooling2D)   (None, 16, 16, 64)        0         \n",
            "_________________________________________________________________\n",
            "dropout_52 (Dropout)         (None, 16, 16, 64)        0         \n",
            "_________________________________________________________________\n",
            "block2_conv1 (Conv2D)        (None, 16, 16, 128)       73856     \n",
            "_________________________________________________________________\n",
            "block2_conv2 (Conv2D)        (None, 16, 16, 128)       147584    \n",
            "_________________________________________________________________\n",
            "block2_pool (MaxPooling2D)   (None, 8, 8, 128)         0         \n",
            "_________________________________________________________________\n",
            "dropout_53 (Dropout)         (None, 8, 8, 128)         0         \n",
            "_________________________________________________________________\n",
            "block3_conv1 (Conv2D)        (None, 8, 8, 256)         295168    \n",
            "_________________________________________________________________\n",
            "block3_conv2 (Conv2D)        (None, 8, 8, 256)         590080    \n",
            "_________________________________________________________________\n",
            "block3_pool (MaxPooling2D)   (None, 4, 4, 256)         0         \n",
            "_________________________________________________________________\n",
            "dropout_54 (Dropout)         (None, 4, 4, 256)         0         \n",
            "_________________________________________________________________\n",
            "block4_conv1 (Conv2D)        (None, 4, 4, 512)         1180160   \n",
            "_________________________________________________________________\n",
            "block4_conv2 (Conv2D)        (None, 4, 4, 512)         2359808   \n",
            "_________________________________________________________________\n",
            "block4_conv3 (Conv2D)        (None, 4, 4, 512)         2359808   \n",
            "_________________________________________________________________\n",
            "block4_pool (MaxPooling2D)   (None, 2, 2, 512)         0         \n",
            "_________________________________________________________________\n",
            "dropout_55 (Dropout)         (None, 2, 2, 512)         0         \n",
            "_________________________________________________________________\n",
            "block5_conv1 (Conv2D)        (None, 2, 2, 512)         2359808   \n",
            "_________________________________________________________________\n",
            "block5_conv2 (Conv2D)        (None, 2, 2, 512)         2359808   \n",
            "_________________________________________________________________\n",
            "block5_conv3 (Conv2D)        (None, 2, 2, 512)         2359808   \n",
            "_________________________________________________________________\n",
            "block5_pool (MaxPooling2D)   (None, 1, 1, 512)         0         \n",
            "_________________________________________________________________\n",
            "dropout_56 (Dropout)         (None, 1, 1, 512)         0         \n",
            "_________________________________________________________________\n",
            "flatten (Flatten)            (None, 512)               0         \n",
            "_________________________________________________________________\n",
            "fc1 (Dense)                  (None, 512)               262656    \n",
            "_________________________________________________________________\n",
            "dropout_57 (Dropout)         (None, 512)               0         \n",
            "_________________________________________________________________\n",
            "predictions (Dense)          (None, 10)                5130      \n",
            "=================================================================\n",
            "Total params: 14,392,394\n",
            "Trainable params: 14,392,394\n",
            "Non-trainable params: 0\n",
            "_________________________________________________________________\n",
            "None\n"
          ],
          "name": "stdout"
        }
      ]
    },
    {
      "cell_type": "markdown",
      "metadata": {
        "colab_type": "text",
        "id": "6O2Htjecbjc3"
      },
      "source": [
        "### Fit the model"
      ]
    },
    {
      "cell_type": "code",
      "metadata": {
        "colab_type": "code",
        "id": "dtZ0O2sUbjc5",
        "outputId": "1692dd4a-eead-436c-c212-12c95acb4f6d",
        "colab": {
          "base_uri": "https://localhost:8080/",
          "height": 1000
        }
      },
      "source": [
        "history = model.fit(X_train, y_train, validation_data=(X_test, y_test), epochs=epochs, batch_size=32)"
      ],
      "execution_count": 73,
      "outputs": [
        {
          "output_type": "stream",
          "text": [
            "Train on 50000 samples, validate on 10000 samples\n",
            "Epoch 1/70\n",
            "50000/50000 [==============================] - 36s 728us/step - loss: 2.3022 - acc: 0.1033 - val_loss: 2.3024 - val_acc: 0.1170\n",
            "Epoch 2/70\n",
            "50000/50000 [==============================] - 34s 680us/step - loss: 2.2711 - acc: 0.1408 - val_loss: 2.2133 - val_acc: 0.1685\n",
            "Epoch 3/70\n",
            "50000/50000 [==============================] - 34s 680us/step - loss: 2.1039 - acc: 0.1915 - val_loss: 2.1011 - val_acc: 0.1753\n",
            "Epoch 4/70\n",
            "50000/50000 [==============================] - 34s 685us/step - loss: 1.9418 - acc: 0.2035 - val_loss: 2.0134 - val_acc: 0.2008\n",
            "Epoch 5/70\n",
            "50000/50000 [==============================] - 34s 686us/step - loss: 1.8806 - acc: 0.2312 - val_loss: 1.9824 - val_acc: 0.2202\n",
            "Epoch 6/70\n",
            "50000/50000 [==============================] - 34s 689us/step - loss: 1.8198 - acc: 0.2694 - val_loss: 1.8136 - val_acc: 0.2825\n",
            "Epoch 7/70\n",
            "50000/50000 [==============================] - 34s 685us/step - loss: 1.7100 - acc: 0.3239 - val_loss: 1.7897 - val_acc: 0.3129\n",
            "Epoch 8/70\n",
            "50000/50000 [==============================] - 34s 678us/step - loss: 1.6389 - acc: 0.3494 - val_loss: 1.6583 - val_acc: 0.3472\n",
            "Epoch 9/70\n",
            "50000/50000 [==============================] - 34s 681us/step - loss: 1.5775 - acc: 0.3788 - val_loss: 1.5772 - val_acc: 0.3837\n",
            "Epoch 10/70\n",
            "50000/50000 [==============================] - 34s 679us/step - loss: 1.5109 - acc: 0.4133 - val_loss: 1.5542 - val_acc: 0.4084\n",
            "Epoch 11/70\n",
            "50000/50000 [==============================] - 34s 677us/step - loss: 1.4259 - acc: 0.4570 - val_loss: 1.2774 - val_acc: 0.5155\n",
            "Epoch 12/70\n",
            "50000/50000 [==============================] - 34s 679us/step - loss: 1.3342 - acc: 0.5013 - val_loss: 1.3036 - val_acc: 0.5238\n",
            "Epoch 13/70\n",
            "50000/50000 [==============================] - 34s 679us/step - loss: 1.2443 - acc: 0.5399 - val_loss: 1.1606 - val_acc: 0.5762\n",
            "Epoch 14/70\n",
            "50000/50000 [==============================] - 34s 677us/step - loss: 1.1680 - acc: 0.5715 - val_loss: 1.0603 - val_acc: 0.6108\n",
            "Epoch 15/70\n",
            "50000/50000 [==============================] - 34s 677us/step - loss: 1.0984 - acc: 0.5988 - val_loss: 0.9786 - val_acc: 0.6449\n",
            "Epoch 16/70\n",
            "50000/50000 [==============================] - 34s 676us/step - loss: 1.0356 - acc: 0.6233 - val_loss: 0.9927 - val_acc: 0.6446\n",
            "Epoch 17/70\n",
            "50000/50000 [==============================] - 34s 679us/step - loss: 0.9846 - acc: 0.6443 - val_loss: 0.8895 - val_acc: 0.6864\n",
            "Epoch 18/70\n",
            "50000/50000 [==============================] - 34s 682us/step - loss: 0.9354 - acc: 0.6644 - val_loss: 0.8963 - val_acc: 0.6881\n",
            "Epoch 19/70\n",
            "50000/50000 [==============================] - 34s 678us/step - loss: 0.8922 - acc: 0.6785 - val_loss: 0.9129 - val_acc: 0.6871\n",
            "Epoch 20/70\n",
            "50000/50000 [==============================] - 34s 677us/step - loss: 0.8599 - acc: 0.6929 - val_loss: 0.7963 - val_acc: 0.7251\n",
            "Epoch 21/70\n",
            "50000/50000 [==============================] - 34s 678us/step - loss: 0.8280 - acc: 0.7048 - val_loss: 0.7914 - val_acc: 0.7253\n",
            "Epoch 22/70\n",
            "50000/50000 [==============================] - 34s 680us/step - loss: 0.7956 - acc: 0.7194 - val_loss: 0.7614 - val_acc: 0.7411\n",
            "Epoch 23/70\n",
            "50000/50000 [==============================] - 34s 678us/step - loss: 0.7629 - acc: 0.7296 - val_loss: 0.7198 - val_acc: 0.7536\n",
            "Epoch 24/70\n",
            "50000/50000 [==============================] - 34s 678us/step - loss: 0.7359 - acc: 0.7436 - val_loss: 0.7706 - val_acc: 0.7359\n",
            "Epoch 25/70\n",
            "50000/50000 [==============================] - 34s 676us/step - loss: 0.7147 - acc: 0.7531 - val_loss: 0.7191 - val_acc: 0.7511\n",
            "Epoch 26/70\n",
            "50000/50000 [==============================] - 34s 677us/step - loss: 0.6890 - acc: 0.7615 - val_loss: 0.7157 - val_acc: 0.7641\n",
            "Epoch 27/70\n",
            "50000/50000 [==============================] - 34s 680us/step - loss: 0.6693 - acc: 0.7664 - val_loss: 0.6376 - val_acc: 0.7867\n",
            "Epoch 28/70\n",
            "50000/50000 [==============================] - 34s 678us/step - loss: 0.6481 - acc: 0.7786 - val_loss: 0.6812 - val_acc: 0.7741\n",
            "Epoch 29/70\n",
            "50000/50000 [==============================] - 34s 679us/step - loss: 0.6256 - acc: 0.7826 - val_loss: 0.6149 - val_acc: 0.8006\n",
            "Epoch 30/70\n",
            "50000/50000 [==============================] - 34s 677us/step - loss: 0.6083 - acc: 0.7909 - val_loss: 0.5918 - val_acc: 0.8031\n",
            "Epoch 31/70\n",
            "50000/50000 [==============================] - 34s 675us/step - loss: 0.5881 - acc: 0.7989 - val_loss: 0.6405 - val_acc: 0.7879\n",
            "Epoch 32/70\n",
            "50000/50000 [==============================] - 34s 677us/step - loss: 0.5744 - acc: 0.8023 - val_loss: 0.5933 - val_acc: 0.8068\n",
            "Epoch 33/70\n",
            "50000/50000 [==============================] - 34s 675us/step - loss: 0.5517 - acc: 0.8115 - val_loss: 0.5845 - val_acc: 0.8106\n",
            "Epoch 34/70\n",
            "50000/50000 [==============================] - 34s 678us/step - loss: 0.5421 - acc: 0.8136 - val_loss: 0.5632 - val_acc: 0.8164\n",
            "Epoch 35/70\n",
            "50000/50000 [==============================] - 34s 677us/step - loss: 0.5294 - acc: 0.8186 - val_loss: 0.5525 - val_acc: 0.8215\n",
            "Epoch 36/70\n",
            "50000/50000 [==============================] - 34s 676us/step - loss: 0.5148 - acc: 0.8246 - val_loss: 0.5891 - val_acc: 0.8149\n",
            "Epoch 37/70\n",
            "50000/50000 [==============================] - 34s 681us/step - loss: 0.4964 - acc: 0.8307 - val_loss: 0.5570 - val_acc: 0.8208\n",
            "Epoch 38/70\n",
            "50000/50000 [==============================] - 34s 675us/step - loss: 0.4857 - acc: 0.8329 - val_loss: 0.5434 - val_acc: 0.8284\n",
            "Epoch 39/70\n",
            "50000/50000 [==============================] - 34s 677us/step - loss: 0.4692 - acc: 0.8410 - val_loss: 0.5187 - val_acc: 0.8359\n",
            "Epoch 40/70\n",
            "50000/50000 [==============================] - 34s 676us/step - loss: 0.4618 - acc: 0.8416 - val_loss: 0.5149 - val_acc: 0.8358\n",
            "Epoch 41/70\n",
            "50000/50000 [==============================] - 34s 676us/step - loss: 0.4442 - acc: 0.8495 - val_loss: 0.5189 - val_acc: 0.8406\n",
            "Epoch 42/70\n",
            "50000/50000 [==============================] - 34s 677us/step - loss: 0.4339 - acc: 0.8517 - val_loss: 0.5195 - val_acc: 0.8346\n",
            "Epoch 43/70\n",
            "50000/50000 [==============================] - 34s 676us/step - loss: 0.4231 - acc: 0.8556 - val_loss: 0.5227 - val_acc: 0.8341\n",
            "Epoch 44/70\n",
            "50000/50000 [==============================] - 34s 679us/step - loss: 0.4162 - acc: 0.8594 - val_loss: 0.5063 - val_acc: 0.8412\n",
            "Epoch 45/70\n",
            "50000/50000 [==============================] - 34s 684us/step - loss: 0.4027 - acc: 0.8643 - val_loss: 0.4864 - val_acc: 0.8465\n",
            "Epoch 46/70\n",
            "50000/50000 [==============================] - 34s 688us/step - loss: 0.3923 - acc: 0.8646 - val_loss: 0.5031 - val_acc: 0.8439\n",
            "Epoch 47/70\n",
            "50000/50000 [==============================] - 34s 683us/step - loss: 0.3873 - acc: 0.8682 - val_loss: 0.5172 - val_acc: 0.8407\n",
            "Epoch 48/70\n",
            "50000/50000 [==============================] - 34s 679us/step - loss: 0.3742 - acc: 0.8708 - val_loss: 0.5008 - val_acc: 0.8468\n",
            "Epoch 49/70\n",
            "50000/50000 [==============================] - 34s 683us/step - loss: 0.3657 - acc: 0.8771 - val_loss: 0.4980 - val_acc: 0.8458\n",
            "Epoch 50/70\n",
            "50000/50000 [==============================] - 34s 678us/step - loss: 0.3570 - acc: 0.8774 - val_loss: 0.4814 - val_acc: 0.8509\n",
            "Epoch 51/70\n",
            "50000/50000 [==============================] - 34s 674us/step - loss: 0.3464 - acc: 0.8831 - val_loss: 0.4787 - val_acc: 0.8533\n",
            "Epoch 52/70\n",
            "50000/50000 [==============================] - 34s 676us/step - loss: 0.3411 - acc: 0.8837 - val_loss: 0.4752 - val_acc: 0.8495\n",
            "Epoch 53/70\n",
            "50000/50000 [==============================] - 34s 674us/step - loss: 0.3274 - acc: 0.8899 - val_loss: 0.4884 - val_acc: 0.8545\n",
            "Epoch 54/70\n",
            "50000/50000 [==============================] - 35s 703us/step - loss: 0.3204 - acc: 0.8897 - val_loss: 0.4973 - val_acc: 0.8568\n",
            "Epoch 55/70\n",
            "50000/50000 [==============================] - 34s 688us/step - loss: 0.3157 - acc: 0.8915 - val_loss: 0.5173 - val_acc: 0.8444\n",
            "Epoch 56/70\n",
            "50000/50000 [==============================] - 34s 685us/step - loss: 0.3079 - acc: 0.8956 - val_loss: 0.4778 - val_acc: 0.8547\n",
            "Epoch 57/70\n",
            "50000/50000 [==============================] - 34s 685us/step - loss: 0.2981 - acc: 0.8984 - val_loss: 0.5005 - val_acc: 0.8529\n",
            "Epoch 58/70\n",
            "50000/50000 [==============================] - 34s 686us/step - loss: 0.2914 - acc: 0.9005 - val_loss: 0.4884 - val_acc: 0.8561\n",
            "Epoch 59/70\n",
            "50000/50000 [==============================] - 34s 683us/step - loss: 0.2802 - acc: 0.9038 - val_loss: 0.4789 - val_acc: 0.8610\n",
            "Epoch 60/70\n",
            "50000/50000 [==============================] - 34s 685us/step - loss: 0.2731 - acc: 0.9062 - val_loss: 0.4859 - val_acc: 0.8520\n",
            "Epoch 61/70\n",
            "50000/50000 [==============================] - 34s 686us/step - loss: 0.2689 - acc: 0.9082 - val_loss: 0.4860 - val_acc: 0.8583\n",
            "Epoch 62/70\n",
            "50000/50000 [==============================] - 34s 686us/step - loss: 0.2650 - acc: 0.9102 - val_loss: 0.5208 - val_acc: 0.8495\n",
            "Epoch 63/70\n",
            "50000/50000 [==============================] - 34s 685us/step - loss: 0.2558 - acc: 0.9122 - val_loss: 0.4527 - val_acc: 0.8635\n",
            "Epoch 64/70\n",
            "50000/50000 [==============================] - 34s 686us/step - loss: 0.2487 - acc: 0.9157 - val_loss: 0.4808 - val_acc: 0.8571\n",
            "Epoch 65/70\n",
            "50000/50000 [==============================] - 34s 683us/step - loss: 0.2377 - acc: 0.9180 - val_loss: 0.4997 - val_acc: 0.8564\n",
            "Epoch 66/70\n",
            "50000/50000 [==============================] - 34s 684us/step - loss: 0.2325 - acc: 0.9205 - val_loss: 0.5078 - val_acc: 0.8520\n",
            "Epoch 67/70\n",
            "50000/50000 [==============================] - 34s 686us/step - loss: 0.2272 - acc: 0.9213 - val_loss: 0.4972 - val_acc: 0.8601\n",
            "Epoch 68/70\n",
            "50000/50000 [==============================] - 34s 684us/step - loss: 0.2198 - acc: 0.9245 - val_loss: 0.4765 - val_acc: 0.8623\n",
            "Epoch 69/70\n",
            "50000/50000 [==============================] - 34s 685us/step - loss: 0.2219 - acc: 0.9227 - val_loss: 0.4775 - val_acc: 0.8677\n",
            "Epoch 70/70\n",
            "50000/50000 [==============================] - 34s 684us/step - loss: 0.2142 - acc: 0.9253 - val_loss: 0.5078 - val_acc: 0.8590\n"
          ],
          "name": "stdout"
        }
      ]
    },
    {
      "cell_type": "markdown",
      "metadata": {
        "colab_type": "text",
        "id": "wjuGUMcZbjc-"
      },
      "source": [
        "### Final evaluation of the model"
      ]
    },
    {
      "cell_type": "code",
      "metadata": {
        "colab_type": "code",
        "id": "mXeb3_fkbjdB",
        "outputId": "b960c90a-a02f-4577-99f3-07e59b61cd08",
        "colab": {
          "base_uri": "https://localhost:8080/",
          "height": 36
        }
      },
      "source": [
        "scores = model.evaluate(X_test, y_test, verbose=0)\n",
        "print(\"Accuracy: %.2f%%\" % (scores[1]*100))"
      ],
      "execution_count": 74,
      "outputs": [
        {
          "output_type": "stream",
          "text": [
            "Accuracy: 85.90%\n"
          ],
          "name": "stdout"
        }
      ]
    },
    {
      "cell_type": "markdown",
      "metadata": {
        "colab_type": "text",
        "id": "SGwrKUOObjdH"
      },
      "source": [
        "### Plot history for accuracy for training and testing process"
      ]
    },
    {
      "cell_type": "code",
      "metadata": {
        "colab_type": "code",
        "id": "A8ZpIQLYbjdI",
        "outputId": "d35c4dee-7d15-4097-b536-20543ce12f39",
        "colab": {
          "base_uri": "https://localhost:8080/",
          "height": 295
        }
      },
      "source": [
        "plt.plot(history.history['acc'])\n",
        "plt.plot(history.history['val_acc'])\n",
        "plt.title('model accuracy')\n",
        "plt.ylabel('accuracy')\n",
        "plt.xlabel('epoch')\n",
        "plt.legend(['train', 'test'], loc='upper left')\n",
        "\n",
        "# Save the figure\n",
        "plt.savefig(accuracy_img_name)\n",
        "\n",
        "# Show figure\n",
        "plt.show()"
      ],
      "execution_count": 75,
      "outputs": [
        {
          "output_type": "display_data",
          "data": {
            "image/png": "[encoded data removed]",
            "text/plain": [
              "<Figure size 432x288 with 1 Axes>"
            ]
          },
          "metadata": {
            "tags": []
          }
        }
      ]
    },
    {
      "cell_type": "markdown",
      "metadata": {
        "colab_type": "text",
        "id": "ABBXyp90bjdO"
      },
      "source": [
        "### Plot history for loss for training and testing process"
      ]
    },
    {
      "cell_type": "code",
      "metadata": {
        "colab_type": "code",
        "id": "rwFOJ9J-bjdQ",
        "outputId": "7b8d302c-d7ea-4fdb-9e02-74ac7ce26093",
        "colab": {
          "base_uri": "https://localhost:8080/",
          "height": 295
        }
      },
      "source": [
        "plt.plot(history.history['loss'])\n",
        "plt.plot(history.history['val_loss'])\n",
        "plt.title('model loss')\n",
        "plt.ylabel('loss')\n",
        "plt.xlabel('epoch')\n",
        "plt.legend(['train', 'test'], loc='upper left')\n",
        "\n",
        "# Save the figure\n",
        "plt.savefig(loss_img_name)\n",
        "\n",
        "# Show figure\n",
        "plt.show()"
      ],
      "execution_count": 76,
      "outputs": [
        {
          "output_type": "display_data",
          "data": {
            "image/png": "[encoded data removed]",
            "text/plain": [
              "<Figure size 432x288 with 1 Axes>"
            ]
          },
          "metadata": {
            "tags": []
          }
        }
      ]
    },
    {
      "cell_type": "markdown",
      "metadata": {
        "colab_type": "text",
        "id": "8UloyviW14wA"
      },
      "source": [
        "### Create a smaller model"
      ]
    },
    {
      "cell_type": "code",
      "metadata": {
        "colab_type": "code",
        "outputId": "c973c513-6a6c-4044-df4c-a7d3eebcd8b4",
        "id": "cgrs69Gr14wN",
        "colab": {
          "base_uri": "https://localhost:8080/",
          "height": 36
        }
      },
      "source": [
        "# CNN architecture\n",
        "\n",
        "input_image = Input(shape=(32,32,3))\n",
        "# Block 1\n",
        "x = Conv2D(32, (3, 3),\n",
        "                  padding='same', \n",
        "                  activation='relu', \n",
        "                  name=\"block1_conv1\")(input_image)\n",
        "x = BatchNormalization()(x)\n",
        "x = Conv2D(32, (3, 3),\n",
        "                  padding='same', \n",
        "                  activation='relu', \n",
        "                  name=\"block1_conv2\")(x)\n",
        "x = BatchNormalization()(x)\n",
        "x = MaxPooling2D((2, 2), name='block1_pool')(x)\n",
        "x = Dropout(0.2)(x)\n",
        "\n",
        "# Block 2 \n",
        "x = Conv2D(64, (3, 3),\n",
        "                  activation='relu',\n",
        "                  padding='same',\n",
        "                  name='block2_conv1')(x)\n",
        "x = BatchNormalization()(x)\n",
        "x = Conv2D(64, (3, 3),\n",
        "                  activation='relu',\n",
        "                  padding='same',\n",
        "                  name='block2_conv2')(x)\n",
        "x = BatchNormalization()(x)\n",
        "x = MaxPooling2D((2, 2), name='block2_pool')(x)\n",
        "x=Dropout(0.3)(x)\n",
        "\n",
        "# Block 3\n",
        "x = Conv2D(128, (3, 3),\n",
        "                  activation='relu',\n",
        "                  padding='same',\n",
        "                  name='block3_conv1')(x)\n",
        "x = BatchNormalization()(x)\n",
        "x = Conv2D(128, (3, 3),\n",
        "                  activation='relu',\n",
        "                  padding='same',\n",
        "                  name='block3_conv2')(x)\n",
        "x = BatchNormalization()(x)\n",
        "x = MaxPooling2D((2, 2), name='block3_pool')(x)\n",
        "x=Dropout(0.3)(x)\n",
        "\n",
        "x = Flatten()(x)\n",
        "x=Dense(128, activation='relu', name='fc1')(x)\n",
        "x=Dropout(0.4)(x)\n",
        "\n",
        "out= Dense(num_classes, activation='softmax', name='predictions')(x)\n",
        "\n",
        "model = Model(inputs=input_image, output=out);"
      ],
      "execution_count": 77,
      "outputs": [
        {
          "output_type": "stream",
          "text": [
            "/usr/local/lib/python3.6/dist-packages/ipykernel_launcher.py:51: UserWarning: Update your `Model` call to the Keras 2 API: `Model(inputs=Tensor(\"in..., outputs=Tensor(\"pr...)`\n"
          ],
          "name": "stderr"
        }
      ]
    },
    {
      "cell_type": "markdown",
      "metadata": {
        "colab_type": "text",
        "id": "NHxmiOEx14wl"
      },
      "source": [
        "### Initialize training parameters"
      ]
    },
    {
      "cell_type": "code",
      "metadata": {
        "colab_type": "code",
        "outputId": "39119c7e-82ef-46da-e02e-44ff3409aee3",
        "id": "sRKgdBd114wo",
        "colab": {
          "base_uri": "https://localhost:8080/",
          "height": 1000
        }
      },
      "source": [
        "epochs = 60\n",
        "lrate = 0.001\n",
        "decay = 0\n",
        "opt = SGD(lr=lrate, momentum=0.9, decay=decay, nesterov=True)\n",
        "model.compile(loss='categorical_crossentropy', optimizer=opt, metrics=['accuracy'])\n",
        "print(model.summary())"
      ],
      "execution_count": 78,
      "outputs": [
        {
          "output_type": "stream",
          "text": [
            "Model: \"model_4\"\n",
            "_________________________________________________________________\n",
            "Layer (type)                 Output Shape              Param #   \n",
            "=================================================================\n",
            "input_13 (InputLayer)        (None, 32, 32, 3)         0         \n",
            "_________________________________________________________________\n",
            "block1_conv1 (Conv2D)        (None, 32, 32, 32)        896       \n",
            "_________________________________________________________________\n",
            "batch_normalization_13 (Batc (None, 32, 32, 32)        128       \n",
            "_________________________________________________________________\n",
            "block1_conv2 (Conv2D)        (None, 32, 32, 32)        9248      \n",
            "_________________________________________________________________\n",
            "batch_normalization_14 (Batc (None, 32, 32, 32)        128       \n",
            "_________________________________________________________________\n",
            "block1_pool (MaxPooling2D)   (None, 16, 16, 32)        0         \n",
            "_________________________________________________________________\n",
            "dropout_58 (Dropout)         (None, 16, 16, 32)        0         \n",
            "_________________________________________________________________\n",
            "block2_conv1 (Conv2D)        (None, 16, 16, 64)        18496     \n",
            "_________________________________________________________________\n",
            "batch_normalization_15 (Batc (None, 16, 16, 64)        256       \n",
            "_________________________________________________________________\n",
            "block2_conv2 (Conv2D)        (None, 16, 16, 64)        36928     \n",
            "_________________________________________________________________\n",
            "batch_normalization_16 (Batc (None, 16, 16, 64)        256       \n",
            "_________________________________________________________________\n",
            "block2_pool (MaxPooling2D)   (None, 8, 8, 64)          0         \n",
            "_________________________________________________________________\n",
            "dropout_59 (Dropout)         (None, 8, 8, 64)          0         \n",
            "_________________________________________________________________\n",
            "block3_conv1 (Conv2D)        (None, 8, 8, 128)         73856     \n",
            "_________________________________________________________________\n",
            "batch_normalization_17 (Batc (None, 8, 8, 128)         512       \n",
            "_________________________________________________________________\n",
            "block3_conv2 (Conv2D)        (None, 8, 8, 128)         147584    \n",
            "_________________________________________________________________\n",
            "batch_normalization_18 (Batc (None, 8, 8, 128)         512       \n",
            "_________________________________________________________________\n",
            "block3_pool (MaxPooling2D)   (None, 4, 4, 128)         0         \n",
            "_________________________________________________________________\n",
            "dropout_60 (Dropout)         (None, 4, 4, 128)         0         \n",
            "_________________________________________________________________\n",
            "flatten_4 (Flatten)          (None, 2048)              0         \n",
            "_________________________________________________________________\n",
            "fc1 (Dense)                  (None, 128)               262272    \n",
            "_________________________________________________________________\n",
            "dropout_61 (Dropout)         (None, 128)               0         \n",
            "_________________________________________________________________\n",
            "predictions (Dense)          (None, 10)                1290      \n",
            "=================================================================\n",
            "Total params: 552,362\n",
            "Trainable params: 551,466\n",
            "Non-trainable params: 896\n",
            "_________________________________________________________________\n",
            "None\n"
          ],
          "name": "stdout"
        }
      ]
    },
    {
      "cell_type": "markdown",
      "metadata": {
        "colab_type": "text",
        "id": "vsZCjlZ_14wv"
      },
      "source": [
        "### Fit the model"
      ]
    },
    {
      "cell_type": "code",
      "metadata": {
        "colab_type": "code",
        "outputId": "4cd007f6-8a28-45fe-b973-975a05e8d847",
        "id": "R9KL_oJ_14wx",
        "colab": {
          "base_uri": "https://localhost:8080/",
          "height": 1000
        }
      },
      "source": [
        "history = model.fit(X_train, y_train, validation_data=(X_test, y_test), epochs=epochs, batch_size=32)"
      ],
      "execution_count": 79,
      "outputs": [
        {
          "output_type": "stream",
          "text": [
            "Train on 50000 samples, validate on 10000 samples\n",
            "Epoch 1/60\n",
            "50000/50000 [==============================] - 18s 360us/step - loss: 1.7785 - acc: 0.3497 - val_loss: 1.4086 - val_acc: 0.4849\n",
            "Epoch 2/60\n",
            "50000/50000 [==============================] - 16s 313us/step - loss: 1.4342 - acc: 0.4805 - val_loss: 1.1958 - val_acc: 0.5658\n",
            "Epoch 3/60\n",
            "50000/50000 [==============================] - 16s 319us/step - loss: 1.2586 - acc: 0.5448 - val_loss: 1.2233 - val_acc: 0.5716\n",
            "Epoch 4/60\n",
            "50000/50000 [==============================] - 16s 313us/step - loss: 1.1359 - acc: 0.5987 - val_loss: 1.0548 - val_acc: 0.6242\n",
            "Epoch 5/60\n",
            "50000/50000 [==============================] - 16s 314us/step - loss: 1.0533 - acc: 0.6277 - val_loss: 1.0436 - val_acc: 0.6352\n",
            "Epoch 6/60\n",
            "50000/50000 [==============================] - 16s 316us/step - loss: 0.9866 - acc: 0.6525 - val_loss: 0.9900 - val_acc: 0.6555\n",
            "Epoch 7/60\n",
            "50000/50000 [==============================] - 16s 315us/step - loss: 0.9269 - acc: 0.6753 - val_loss: 1.1757 - val_acc: 0.6229\n",
            "Epoch 8/60\n",
            "50000/50000 [==============================] - 16s 316us/step - loss: 0.8755 - acc: 0.6941 - val_loss: 0.8805 - val_acc: 0.6881\n",
            "Epoch 9/60\n",
            "50000/50000 [==============================] - 16s 317us/step - loss: 0.8405 - acc: 0.7061 - val_loss: 0.7302 - val_acc: 0.7474\n",
            "Epoch 10/60\n",
            "50000/50000 [==============================] - 16s 313us/step - loss: 0.8090 - acc: 0.7171 - val_loss: 0.7218 - val_acc: 0.7470\n",
            "Epoch 11/60\n",
            "50000/50000 [==============================] - 16s 315us/step - loss: 0.7733 - acc: 0.7288 - val_loss: 0.7037 - val_acc: 0.7556\n",
            "Epoch 12/60\n",
            "50000/50000 [==============================] - 16s 312us/step - loss: 0.7458 - acc: 0.7379 - val_loss: 0.6932 - val_acc: 0.7639\n",
            "Epoch 13/60\n",
            "50000/50000 [==============================] - 16s 314us/step - loss: 0.7249 - acc: 0.7472 - val_loss: 0.6498 - val_acc: 0.7742\n",
            "Epoch 14/60\n",
            "50000/50000 [==============================] - 16s 313us/step - loss: 0.7008 - acc: 0.7572 - val_loss: 0.6267 - val_acc: 0.7840\n",
            "Epoch 15/60\n",
            "50000/50000 [==============================] - 16s 315us/step - loss: 0.6807 - acc: 0.7646 - val_loss: 0.7138 - val_acc: 0.7550\n",
            "Epoch 16/60\n",
            "50000/50000 [==============================] - 16s 314us/step - loss: 0.6588 - acc: 0.7708 - val_loss: 0.6012 - val_acc: 0.7920\n",
            "Epoch 17/60\n",
            "50000/50000 [==============================] - 16s 313us/step - loss: 0.6413 - acc: 0.7800 - val_loss: 0.6118 - val_acc: 0.7917\n",
            "Epoch 18/60\n",
            "50000/50000 [==============================] - 16s 313us/step - loss: 0.6236 - acc: 0.7833 - val_loss: 0.5905 - val_acc: 0.8006\n",
            "Epoch 19/60\n",
            "50000/50000 [==============================] - 16s 316us/step - loss: 0.6087 - acc: 0.7876 - val_loss: 0.5708 - val_acc: 0.8020\n",
            "Epoch 20/60\n",
            "50000/50000 [==============================] - 16s 312us/step - loss: 0.5952 - acc: 0.7934 - val_loss: 0.5688 - val_acc: 0.8044\n",
            "Epoch 21/60\n",
            "50000/50000 [==============================] - 16s 311us/step - loss: 0.5749 - acc: 0.7991 - val_loss: 0.5943 - val_acc: 0.7995\n",
            "Epoch 22/60\n",
            "50000/50000 [==============================] - 16s 314us/step - loss: 0.5644 - acc: 0.8028 - val_loss: 0.5688 - val_acc: 0.8128\n",
            "Epoch 23/60\n",
            "50000/50000 [==============================] - 16s 315us/step - loss: 0.5484 - acc: 0.8090 - val_loss: 0.6287 - val_acc: 0.7908\n",
            "Epoch 24/60\n",
            "50000/50000 [==============================] - 16s 314us/step - loss: 0.5438 - acc: 0.8138 - val_loss: 0.5418 - val_acc: 0.8186\n",
            "Epoch 25/60\n",
            "50000/50000 [==============================] - 16s 315us/step - loss: 0.5276 - acc: 0.8173 - val_loss: 0.5442 - val_acc: 0.8186\n",
            "Epoch 26/60\n",
            "50000/50000 [==============================] - 16s 317us/step - loss: 0.5175 - acc: 0.8204 - val_loss: 0.5203 - val_acc: 0.8241\n",
            "Epoch 27/60\n",
            "50000/50000 [==============================] - 16s 312us/step - loss: 0.5069 - acc: 0.8223 - val_loss: 0.6122 - val_acc: 0.7970\n",
            "Epoch 28/60\n",
            "50000/50000 [==============================] - 16s 314us/step - loss: 0.4946 - acc: 0.8292 - val_loss: 0.5201 - val_acc: 0.8278\n",
            "Epoch 29/60\n",
            "50000/50000 [==============================] - 16s 314us/step - loss: 0.4791 - acc: 0.8337 - val_loss: 0.5353 - val_acc: 0.8259\n",
            "Epoch 30/60\n",
            "50000/50000 [==============================] - 16s 312us/step - loss: 0.4778 - acc: 0.8354 - val_loss: 0.5154 - val_acc: 0.8297\n",
            "Epoch 31/60\n",
            "50000/50000 [==============================] - 16s 311us/step - loss: 0.4624 - acc: 0.8388 - val_loss: 0.5415 - val_acc: 0.8234\n",
            "Epoch 32/60\n",
            "50000/50000 [==============================] - 16s 316us/step - loss: 0.4504 - acc: 0.8422 - val_loss: 0.5084 - val_acc: 0.8329\n",
            "Epoch 33/60\n",
            "50000/50000 [==============================] - 15s 309us/step - loss: 0.4460 - acc: 0.8430 - val_loss: 0.5022 - val_acc: 0.8364\n",
            "Epoch 34/60\n",
            "50000/50000 [==============================] - 16s 315us/step - loss: 0.4352 - acc: 0.8495 - val_loss: 0.5411 - val_acc: 0.8246\n",
            "Epoch 35/60\n",
            "50000/50000 [==============================] - 16s 313us/step - loss: 0.4264 - acc: 0.8507 - val_loss: 0.5218 - val_acc: 0.8316\n",
            "Epoch 36/60\n",
            "50000/50000 [==============================] - 16s 312us/step - loss: 0.4179 - acc: 0.8532 - val_loss: 0.5145 - val_acc: 0.8328\n",
            "Epoch 37/60\n",
            "50000/50000 [==============================] - 16s 311us/step - loss: 0.4130 - acc: 0.8559 - val_loss: 0.4942 - val_acc: 0.8380\n",
            "Epoch 38/60\n",
            "50000/50000 [==============================] - 16s 313us/step - loss: 0.4057 - acc: 0.8576 - val_loss: 0.5041 - val_acc: 0.8401\n",
            "Epoch 39/60\n",
            "50000/50000 [==============================] - 16s 315us/step - loss: 0.4018 - acc: 0.8590 - val_loss: 0.4964 - val_acc: 0.8399\n",
            "Epoch 40/60\n",
            "50000/50000 [==============================] - 16s 313us/step - loss: 0.3908 - acc: 0.8622 - val_loss: 0.5817 - val_acc: 0.8181\n",
            "Epoch 41/60\n",
            "50000/50000 [==============================] - 16s 312us/step - loss: 0.3815 - acc: 0.8658 - val_loss: 0.5200 - val_acc: 0.8323\n",
            "Epoch 42/60\n",
            "50000/50000 [==============================] - 16s 313us/step - loss: 0.3775 - acc: 0.8683 - val_loss: 0.5323 - val_acc: 0.8353\n",
            "Epoch 43/60\n",
            "50000/50000 [==============================] - 16s 313us/step - loss: 0.3718 - acc: 0.8707 - val_loss: 0.5020 - val_acc: 0.8377\n",
            "Epoch 44/60\n",
            "50000/50000 [==============================] - 16s 313us/step - loss: 0.3664 - acc: 0.8703 - val_loss: 0.5134 - val_acc: 0.8396\n",
            "Epoch 45/60\n",
            "50000/50000 [==============================] - 16s 317us/step - loss: 0.3654 - acc: 0.8720 - val_loss: 0.5056 - val_acc: 0.8426\n",
            "Epoch 46/60\n",
            "50000/50000 [==============================] - 16s 311us/step - loss: 0.3545 - acc: 0.8766 - val_loss: 0.4897 - val_acc: 0.8454\n",
            "Epoch 47/60\n",
            "50000/50000 [==============================] - 15s 310us/step - loss: 0.3404 - acc: 0.8783 - val_loss: 0.5068 - val_acc: 0.8449\n",
            "Epoch 48/60\n",
            "50000/50000 [==============================] - 16s 313us/step - loss: 0.3447 - acc: 0.8799 - val_loss: 0.5052 - val_acc: 0.8473\n",
            "Epoch 49/60\n",
            "50000/50000 [==============================] - 16s 315us/step - loss: 0.3364 - acc: 0.8813 - val_loss: 0.4958 - val_acc: 0.8457\n",
            "Epoch 50/60\n",
            "50000/50000 [==============================] - 15s 310us/step - loss: 0.3327 - acc: 0.8836 - val_loss: 0.4837 - val_acc: 0.8494\n",
            "Epoch 51/60\n",
            "50000/50000 [==============================] - 16s 316us/step - loss: 0.3293 - acc: 0.8857 - val_loss: 0.4966 - val_acc: 0.8484\n",
            "Epoch 52/60\n",
            "50000/50000 [==============================] - 16s 312us/step - loss: 0.3201 - acc: 0.8873 - val_loss: 0.4926 - val_acc: 0.8473\n",
            "Epoch 53/60\n",
            "50000/50000 [==============================] - 16s 315us/step - loss: 0.3154 - acc: 0.8897 - val_loss: 0.5297 - val_acc: 0.8429\n",
            "Epoch 54/60\n",
            "50000/50000 [==============================] - 16s 312us/step - loss: 0.3108 - acc: 0.8907 - val_loss: 0.4939 - val_acc: 0.8544\n",
            "Epoch 55/60\n",
            "50000/50000 [==============================] - 16s 314us/step - loss: 0.3097 - acc: 0.8910 - val_loss: 0.4812 - val_acc: 0.8491\n",
            "Epoch 56/60\n",
            "50000/50000 [==============================] - 15s 309us/step - loss: 0.3016 - acc: 0.8932 - val_loss: 0.4930 - val_acc: 0.8494\n",
            "Epoch 57/60\n",
            "50000/50000 [==============================] - 16s 310us/step - loss: 0.3026 - acc: 0.8943 - val_loss: 0.5144 - val_acc: 0.8455\n",
            "Epoch 58/60\n",
            "50000/50000 [==============================] - 16s 310us/step - loss: 0.2982 - acc: 0.8954 - val_loss: 0.5050 - val_acc: 0.8483\n",
            "Epoch 59/60\n",
            "50000/50000 [==============================] - 16s 313us/step - loss: 0.2895 - acc: 0.8986 - val_loss: 0.5044 - val_acc: 0.8469\n",
            "Epoch 60/60\n",
            "50000/50000 [==============================] - 16s 315us/step - loss: 0.2864 - acc: 0.9002 - val_loss: 0.4742 - val_acc: 0.8552\n"
          ],
          "name": "stdout"
        }
      ]
    },
    {
      "cell_type": "markdown",
      "metadata": {
        "colab_type": "text",
        "id": "RZDJHXuK14w3"
      },
      "source": [
        "### Final evaluation of the model"
      ]
    },
    {
      "cell_type": "code",
      "metadata": {
        "colab_type": "code",
        "id": "XVGpIV_i14w5",
        "colab": {
          "base_uri": "https://localhost:8080/",
          "height": 36
        },
        "outputId": "74eace9a-8fea-4ec6-b11a-d46cdd20a1c2"
      },
      "source": [
        "scores = model.evaluate(X_test, y_test, verbose=0)\n",
        "print(\"Accuracy: %.2f%%\" % (scores[1]*100))"
      ],
      "execution_count": 80,
      "outputs": [
        {
          "output_type": "stream",
          "text": [
            "Accuracy: 85.52%\n"
          ],
          "name": "stdout"
        }
      ]
    },
    {
      "cell_type": "markdown",
      "metadata": {
        "colab_type": "text",
        "id": "2ojWOuqu14w_"
      },
      "source": [
        "### Plot history for accuracy for training and testing process"
      ]
    },
    {
      "cell_type": "code",
      "metadata": {
        "colab_type": "code",
        "id": "CVpqohLs14xC",
        "colab": {
          "base_uri": "https://localhost:8080/",
          "height": 295
        },
        "outputId": "7bcb6739-070c-4ed1-c270-81286536bda8"
      },
      "source": [
        "plt.plot(history.history['acc'])\n",
        "plt.plot(history.history['val_acc'])\n",
        "plt.title('model accuracy')\n",
        "plt.ylabel('accuracy')\n",
        "plt.xlabel('epoch')\n",
        "plt.legend(['train', 'test'], loc='upper left')\n",
        "\n",
        "# Save the figure\n",
        "plt.savefig(accuracy_img_name)\n",
        "\n",
        "# Show figure\n",
        "plt.show()"
      ],
      "execution_count": 81,
      "outputs": [
        {
          "output_type": "display_data",
          "data": {
            "image/png": "[encoded data removed]",
            "text/plain": [
              "<Figure size 432x288 with 1 Axes>"
            ]
          },
          "metadata": {
            "tags": []
          }
        }
      ]
    },
    {
      "cell_type": "markdown",
      "metadata": {
        "colab_type": "text",
        "id": "ZP78SviO14xI"
      },
      "source": [
        "### Plot history for loss for training and testing process"
      ]
    },
    {
      "cell_type": "code",
      "metadata": {
        "colab_type": "code",
        "id": "5FIvV3wS14xJ",
        "colab": {
          "base_uri": "https://localhost:8080/",
          "height": 295
        },
        "outputId": "b40dd02d-a15e-489e-dee8-4d612b988ce7"
      },
      "source": [
        "plt.plot(history.history['loss'])\n",
        "plt.plot(history.history['val_loss'])\n",
        "plt.title('model loss')\n",
        "plt.ylabel('loss')\n",
        "plt.xlabel('epoch')\n",
        "plt.legend(['train', 'test'], loc='upper left')\n",
        "\n",
        "# Save the figure\n",
        "plt.savefig(loss_img_name)\n",
        "\n",
        "# Show figure\n",
        "plt.show()"
      ],
      "execution_count": 82,
      "outputs": [
        {
          "output_type": "display_data",
          "data": {
            "image/png": "[encoded data removed]",
            "text/plain": [
              "<Figure size 432x288 with 1 Axes>"
            ]
          },
          "metadata": {
            "tags": []
          }
        }
      ]
    }
  ]
}